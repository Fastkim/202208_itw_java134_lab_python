{
  "nbformat": 4,
  "nbformat_minor": 0,
  "metadata": {
    "colab": {
      "provenance": [],
      "toc_visible": true,
      "authorship_tag": "ABX9TyNQCDar/KJ3xncD/ZQGv6qQ",
      "include_colab_link": true
    },
    "kernelspec": {
      "name": "python3",
      "display_name": "Python 3"
    },
    "language_info": {
      "name": "python"
    }
  },
  "cells": [
    {
      "cell_type": "markdown",
      "metadata": {
        "id": "view-in-github",
        "colab_type": "text"
      },
      "source": [
        "<a href=\"https://colab.research.google.com/github/Fastkim/202208_itw_java134_lab_python/blob/main/py01_intro.ipynb\" target=\"_parent\"><img src=\"https://colab.research.google.com/assets/colab-badge.svg\" alt=\"Open In Colab\"/></a>"
      ]
    },
    {
      "cell_type": "markdown",
      "source": [
        "# Python 버전 확인\n",
        "\n",
        "\n"
      ],
      "metadata": {
        "id": "llTBPIFraoe6"
      }
    },
    {
      "cell_type": "code",
      "source": [
        "!python --version"
      ],
      "metadata": {
        "colab": {
          "base_uri": "https://localhost:8080/"
        },
        "id": "LI1IJkGicGTC",
        "outputId": "b84ed447-d74c-4df3-f4ad-6afc24f346a1"
      },
      "execution_count": null,
      "outputs": [
        {
          "output_type": "stream",
          "name": "stdout",
          "text": [
            "Python 3.8.16\n"
          ]
        }
      ]
    },
    {
      "cell_type": "markdown",
      "source": [
        "코드셀에서 명령창(command prompt)에서 실행하는 문장을 작성하고 실행할 때는 !로 시작."
      ],
      "metadata": {
        "id": "kOUP19O5jWKM"
      }
    },
    {
      "cell_type": "markdown",
      "source": [
        "# `print` 함수"
      ],
      "metadata": {
        "id": "PtiKhISpjuoU"
      }
    },
    {
      "cell_type": "code",
      "source": [
        "print('안녕, 파이썬!')"
      ],
      "metadata": {
        "colab": {
          "base_uri": "https://localhost:8080/"
        },
        "id": "bTxOq6Mujxh-",
        "outputId": "e76b2f12-0194-404c-8f44-06d35b89b17e"
      },
      "execution_count": null,
      "outputs": [
        {
          "output_type": "stream",
          "name": "stdout",
          "text": [
            "안녕, 파이썬!\n"
          ]
        }
      ]
    },
    {
      "cell_type": "code",
      "source": [
        "print('hello','python','안녕','파이썬')"
      ],
      "metadata": {
        "colab": {
          "base_uri": "https://localhost:8080/"
        },
        "id": "Nj1mq-vxlT71",
        "outputId": "5bf5eeab-c080-4970-f35f-86496d3e7089"
      },
      "execution_count": null,
      "outputs": [
        {
          "output_type": "stream",
          "name": "stdout",
          "text": [
            "hello python 안녕 파이썬\n"
          ]
        }
      ]
    },
    {
      "cell_type": "markdown",
      "source": [
        "`print()` 함수에 여러개의 argument를 전달하면, argument들을 공백으로 연결해서 한 줄에 출력함."
      ],
      "metadata": {
        "id": "bSk_oL4Cm7YG"
      }
    },
    {
      "cell_type": "code",
      "source": [
        "print('hello','python',sep='::')"
      ],
      "metadata": {
        "colab": {
          "base_uri": "https://localhost:8080/"
        },
        "id": "NDGC68KInNF4",
        "outputId": "ea12967c-e9d7-46ec-84b9-48a03560f748"
      },
      "execution_count": null,
      "outputs": [
        {
          "output_type": "stream",
          "name": "stdout",
          "text": [
            "hello::python\n"
          ]
        }
      ]
    },
    {
      "cell_type": "markdown",
      "source": [
        "## `format()` 메서드를 사용한 출력"
      ],
      "metadata": {
        "id": "k0CsKc7Vn9Y9"
      }
    },
    {
      "cell_type": "code",
      "source": [
        "print('{} + {} = {}'.format(1, 2, 3))"
      ],
      "metadata": {
        "colab": {
          "base_uri": "https://localhost:8080/"
        },
        "id": "peOCBtCtobJ3",
        "outputId": "c194cb8d-1b5f-4d10-c4ba-e5e884ea82a3"
      },
      "execution_count": null,
      "outputs": [
        {
          "output_type": "stream",
          "name": "stdout",
          "text": [
            "1 + 2 = 3\n"
          ]
        }
      ]
    },
    {
      "cell_type": "code",
      "source": [
        "print('{x} + {y} = {z}'.format(x=1, y=2, z=3))"
      ],
      "metadata": {
        "colab": {
          "base_uri": "https://localhost:8080/"
        },
        "outputId": "72b59736-b797-4955-b960-c1993bab1205",
        "id": "Zy2Xu_wVpCNa"
      },
      "execution_count": null,
      "outputs": [
        {
          "output_type": "stream",
          "name": "stdout",
          "text": [
            "1 + 2 = 3\n"
          ]
        }
      ]
    },
    {
      "cell_type": "markdown",
      "source": [
        "## formatted string을 사용한 출력\n",
        "\n",
        "Python 3.6 이상 버전에서만 사용 가능."
      ],
      "metadata": {
        "id": "mKNzPOL2peZh"
      }
    },
    {
      "cell_type": "code",
      "source": [
        "a = 10\n",
        "b = 20"
      ],
      "metadata": {
        "id": "3OjmGf7OpyvN"
      },
      "execution_count": null,
      "outputs": []
    },
    {
      "cell_type": "code",
      "source": [
        "print(f'{a} + {b} = {a + b}')"
      ],
      "metadata": {
        "colab": {
          "base_uri": "https://localhost:8080/"
        },
        "id": "wgapHTljqCAu",
        "outputId": "843cf8b0-0779-4aeb-eab7-7256d0dd0a87"
      },
      "execution_count": null,
      "outputs": [
        {
          "output_type": "stream",
          "name": "stdout",
          "text": [
            "10 + 20 = 30\n"
          ]
        }
      ]
    },
    {
      "cell_type": "markdown",
      "source": [
        "## 코드셀 실행 방법\n",
        "\n",
        "* 코드셀 왼쪽의 실행 버튼 클릭\n",
        "* ctrl+Enter: 현재 포커스가 있는 셀을 실행.\n",
        "* Shift+Enter: 현재 포커스가 있는 셀을 실행하고, 그 다음 셀로 포커스를 이동.\n",
        "    * 현재 셀 아래에 다음 셀이 없는 경우에는 새로운 코드 셀을 생성.\n",
        "* 런타임 메뉴"
      ],
      "metadata": {
        "id": "SGFiYumlvGhH"
      }
    }
  ]
}