{
  "nbformat": 4,
  "nbformat_minor": 0,
  "metadata": {
    "colab": {
      "provenance": [],
      "authorship_tag": "ABX9TyNtnmxCJB1ipqRzFaNFvrN0",
      "include_colab_link": true
    },
    "kernelspec": {
      "name": "python3",
      "display_name": "Python 3"
    },
    "language_info": {
      "name": "python"
    }
  },
  "cells": [
    {
      "cell_type": "markdown",
      "metadata": {
        "id": "view-in-github",
        "colab_type": "text"
      },
      "source": [
        "<a href=\"https://colab.research.google.com/github/JakeOh/202208_itw_java134_lab_python/blob/main/py02_variable.ipynb\" target=\"_parent\"><img src=\"https://colab.research.google.com/assets/colab-badge.svg\" alt=\"Open In Colab\"/></a>"
      ]
    },
    {
      "cell_type": "markdown",
      "source": [
        "# 파이썬 자료 타입\n",
        "\n",
        "* 숫자 타입\n",
        "    * `int`: 정수\n",
        "    * `float`: 실수\n",
        "\n",
        "* 문자열 타입\n",
        "    * `str`\n",
        "\n",
        "* 논리 타입\n",
        "    * `bool`: True/False\n",
        "\n",
        "* 객체 타입\n",
        "\n",
        "파이썬은 변수를 선언할 때 자료 타입을 명시하지 않음! 변수의 자료 타입은 코드가 실행될 때 결정됨."
      ],
      "metadata": {
        "id": "mpb7PNbKyYjM"
      }
    },
    {
      "cell_type": "code",
      "execution_count": 1,
      "metadata": {
        "colab": {
          "base_uri": "https://localhost:8080/"
        },
        "id": "V3HUqFEhxgk6",
        "outputId": "89ef67ba-f02c-4758-a7da-b4327674d36f"
      },
      "outputs": [
        {
          "output_type": "stream",
          "name": "stdout",
          "text": [
            "123\n",
            "<class 'int'>\n"
          ]
        }
      ],
      "source": [
        "# 주석(comment)\n",
        "# 변수_이름 = 값\n",
        "n = 123\n",
        "print(n)\n",
        "print(type(n))  # type(arg): arg의 자료 타입을 리턴."
      ]
    },
    {
      "cell_type": "code",
      "source": [
        "n = 3.14\n",
        "print(type(n))"
      ],
      "metadata": {
        "colab": {
          "base_uri": "https://localhost:8080/"
        },
        "id": "yRBb_hd_092q",
        "outputId": "cf5e36c7-fd04-4d07-b43c-f7559a563e18"
      },
      "execution_count": 2,
      "outputs": [
        {
          "output_type": "stream",
          "name": "stdout",
          "text": [
            "<class 'float'>\n"
          ]
        }
      ]
    },
    {
      "cell_type": "markdown",
      "source": [
        "식(expression): 값, 변수, 계산식(연산), 함수 호출.\n",
        "\n",
        "문장(statement): 코드의 최소 실행 단위.\n",
        "\n",
        "ipynb(IPython notebook) 코드셀 에서 가장 마지막 줄에 있는 문장이 식(expression)이면, 그 식을 평가한 결과를 콘솔 창에 출력해 줌. (print 함수를 사용하지 않아도 됨.)"
      ],
      "metadata": {
        "id": "NeyhAA0a1oYL"
      }
    },
    {
      "cell_type": "code",
      "source": [
        "x = 1\n",
        "y = 2\n",
        "# print(x + y)\n",
        "x + y"
      ],
      "metadata": {
        "colab": {
          "base_uri": "https://localhost:8080/"
        },
        "id": "BUABcnP32izy",
        "outputId": "17b1be6d-a8e1-4976-81f3-b614b971aff3"
      },
      "execution_count": 5,
      "outputs": [
        {
          "output_type": "execute_result",
          "data": {
            "text/plain": [
              "3"
            ]
          },
          "metadata": {},
          "execution_count": 5
        }
      ]
    }
  ]
}